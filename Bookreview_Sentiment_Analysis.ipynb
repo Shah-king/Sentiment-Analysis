{
 "cells": [
  {
   "cell_type": "markdown",
   "metadata": {},
   "source": [
    "# Lab 8: Define and Solve an ML Problem of Your Choosing"
   ]
  },
  {
   "cell_type": "code",
   "execution_count": 2,
   "metadata": {},
   "outputs": [],
   "source": [
    "import pandas as pd\n",
    "import numpy as np\n",
    "import os \n",
    "import matplotlib.pyplot as plt\n",
    "import seaborn as sns\n",
    "import re\n",
    "import string"
   ]
  },
  {
   "cell_type": "markdown",
   "metadata": {},
   "source": [
    "In this lab assignment, you will follow the machine learning life cycle and implement a model to solve a machine learning problem of your choosing. You will select a data set and choose a predictive problem that the data set supports.  You will then inspect the data with your problem in mind and begin to formulate a  project plan. You will then implement the machine learning project plan. \n",
    "\n",
    "You will complete the following tasks:\n",
    "\n",
    "1. Build Your DataFrame\n",
    "2. Define Your ML Problem\n",
    "3. Perform exploratory data analysis to understand your data.\n",
    "4. Define Your Project Plan\n",
    "5. Implement Your Project Plan:\n",
    "    * Prepare your data for your model.\n",
    "    * Fit your model to the training data and evaluate your model.\n",
    "    * Improve your model's performance."
   ]
  },
  {
   "cell_type": "markdown",
   "metadata": {},
   "source": [
    "## Part 1: Build Your DataFrame\n",
    "\n",
    "You will have the option to choose one of four data sets that you have worked with in this program:\n",
    "\n",
    "* The \"census\" data set that contains Census information from 1994: `censusData.csv`\n",
    "* Airbnb NYC \"listings\" data set: `airbnbListingsData.csv`\n",
    "* World Happiness Report (WHR) data set: `WHR2018Chapter2OnlineData.csv`\n",
    "* Book Review data set: `bookReviewsData.csv`\n",
    "\n",
    "Note that these are variations of the data sets that you have worked with in this program. For example, some do not include some of the preprocessing necessary for specific models. \n",
    "\n",
    "#### Load a Data Set and Save it as a Pandas DataFrame\n",
    "\n",
    "The code cell below contains filenames (path + filename) for each of the four data sets available to you.\n",
    "\n",
    "<b>Task:</b> In the code cell below, use the same method you have been using to load the data using `pd.read_csv()` and save it to DataFrame `df`. \n",
    "\n",
    "You can load each file as a new DataFrame to inspect the data before choosing your data set."
   ]
  },
  {
   "cell_type": "code",
   "execution_count": 3,
   "metadata": {},
   "outputs": [
    {
     "data": {
      "text/html": [
       "<div>\n",
       "<style scoped>\n",
       "    .dataframe tbody tr th:only-of-type {\n",
       "        vertical-align: middle;\n",
       "    }\n",
       "\n",
       "    .dataframe tbody tr th {\n",
       "        vertical-align: top;\n",
       "    }\n",
       "\n",
       "    .dataframe thead th {\n",
       "        text-align: right;\n",
       "    }\n",
       "</style>\n",
       "<table border=\"1\" class=\"dataframe\">\n",
       "  <thead>\n",
       "    <tr style=\"text-align: right;\">\n",
       "      <th></th>\n",
       "      <th>Review</th>\n",
       "      <th>Positive Review</th>\n",
       "    </tr>\n",
       "  </thead>\n",
       "  <tbody>\n",
       "    <tr>\n",
       "      <th>0</th>\n",
       "      <td>This was perhaps the best of Johannes Steinhof...</td>\n",
       "      <td>True</td>\n",
       "    </tr>\n",
       "    <tr>\n",
       "      <th>1</th>\n",
       "      <td>This very fascinating book is a story written ...</td>\n",
       "      <td>True</td>\n",
       "    </tr>\n",
       "    <tr>\n",
       "      <th>2</th>\n",
       "      <td>The four tales in this collection are beautifu...</td>\n",
       "      <td>True</td>\n",
       "    </tr>\n",
       "    <tr>\n",
       "      <th>3</th>\n",
       "      <td>The book contained more profanity than I expec...</td>\n",
       "      <td>False</td>\n",
       "    </tr>\n",
       "    <tr>\n",
       "      <th>4</th>\n",
       "      <td>We have now entered a second time of deep conc...</td>\n",
       "      <td>True</td>\n",
       "    </tr>\n",
       "  </tbody>\n",
       "</table>\n",
       "</div>"
      ],
      "text/plain": [
       "                                              Review  Positive Review\n",
       "0  This was perhaps the best of Johannes Steinhof...             True\n",
       "1  This very fascinating book is a story written ...             True\n",
       "2  The four tales in this collection are beautifu...             True\n",
       "3  The book contained more profanity than I expec...            False\n",
       "4  We have now entered a second time of deep conc...             True"
      ]
     },
     "execution_count": 3,
     "metadata": {},
     "output_type": "execute_result"
    }
   ],
   "source": [
    "# File names of the four data sets\n",
    "adultDataSet_filename = os.path.join(os.getcwd(), \"data\", \"censusData.csv\")\n",
    "airbnbDataSet_filename = os.path.join(os.getcwd(), \"data\", \"airbnbListingsData.csv\")\n",
    "WHRDataSet_filename = os.path.join(os.getcwd(), \"data\", \"WHR2018Chapter2OnlineData.csv\")\n",
    "bookReviewDataSet_filename = os.path.join(os.getcwd(), \"data\", \"bookReviewsData.csv\")\n",
    "\n",
    "\n",
    "df = pd.read_csv(bookReviewDataSet_filename, header = 0)\n",
    "\n",
    "df.head()"
   ]
  },
  {
   "cell_type": "markdown",
   "metadata": {},
   "source": [
    "## Part 2: Define Your ML Problem\n",
    "\n",
    "Next you will formulate your ML Problem. In the markdown cell below, answer the following questions:\n",
    "\n",
    "1. List the data set you have chosen.\n",
    "2. What will you be predicting? What is the label?\n",
    "3. Is this a supervised or unsupervised learning problem? Is this a clustering, classification or regression problem? Is it a binary classificaiton or multi-class classifiction problem?\n",
    "4. What are your features? (note: this list may change after your explore your data)\n",
    "5. Explain why this is an important problem. In other words, how would a company create value with a model that predicts this label?"
   ]
  },
  {
   "cell_type": "markdown",
   "metadata": {},
   "source": [
    "<Double click this Markdown cell to make it editable, and record your answers here.>\n",
    "I have chosen bookReviewsData.csv as my dataset. I will be predicting whether a book review is positive (label = 1) or negative (label = 0) using the text of the review. The target label, positive_review, is derived from the rating column as follows:\n",
    "\n",
    "Ratings 4 or 5 → Positive (1)\n",
    "\n",
    "Ratings 1 or 2 → Negative (0)\n",
    "\n",
    "Ratings 3 → Excluded to remove neutral sentiment. The type of problem that I will focusing on is supervised learning with classification more importantly binary classification. My feature is \n",
    "Review. This is an important problem as sentiment analysis can help online businesses automatically flag reviews or highlight high ratings and help companies understand customer feedback. Companies can also build recommendation system based on sentiment classification."
   ]
  },
  {
   "cell_type": "markdown",
   "metadata": {},
   "source": [
    "## Part 3: Understand Your Data\n",
    "\n",
    "The next step is to perform exploratory data analysis. Inspect and analyze your data set with your machine learning problem in mind. Consider the following as you inspect your data:\n",
    "\n",
    "1. What data preparation techniques would you like to use? These data preparation techniques may include:\n",
    "\n",
    "    * addressing missingness, such as replacing missing values with means\n",
    "    * finding and replacing outliers\n",
    "    * renaming features and labels\n",
    "    * finding and replacing outliers\n",
    "    * performing feature engineering techniques such as one-hot encoding on categorical features\n",
    "    * selecting appropriate features and removing irrelevant features\n",
    "    * performing specific data cleaning and preprocessing techniques for an NLP problem\n",
    "    * addressing class imbalance in your data sample to promote fair AI\n",
    "    \n",
    "\n",
    "2. What machine learning model (or models) you would like to use that is suitable for your predictive problem and data?\n",
    "    * Are there other data preparation techniques that you will need to apply to build a balanced modeling data set for your problem and model? For example, will you need to scale your data?\n",
    " \n",
    " \n",
    "3. How will you evaluate and improve the model's performance?\n",
    "    * Are there specific evaluation metrics and methods that are appropriate for your model?\n",
    "    \n",
    "\n",
    "Think of the different techniques you have used to inspect and analyze your data in this course. These include using Pandas to apply data filters, using the Pandas `describe()` method to get insight into key statistics for each column, using the Pandas `dtypes` property to inspect the data type of each column, and using Matplotlib and Seaborn to detect outliers and visualize relationships between features and labels. If you are working on a classification problem, use techniques you have learned to determine if there is class imbalance.\n",
    "\n",
    "<b>Task</b>: Use the techniques you have learned in this course to inspect and analyze your data. You can import additional packages that you have used in this course that you will need to perform this task.\n",
    "\n",
    "<b>Note</b>: You can add code cells if needed by going to the <b>Insert</b> menu and clicking on <b>Insert Cell Below</b> in the drop-drown menu."
   ]
  },
  {
   "cell_type": "code",
   "execution_count": 4,
   "metadata": {},
   "outputs": [
    {
     "data": {
      "text/plain": [
       "'1. Drop missing Review rows.\\n\\n2.Remove punctuation and lowercase text.\\n\\n3.Tokenization and stopword removal (handled via TfidfVectorizer).\\n\\n4.Balance dataset if needed (check label distribution).\\n\\n5.Consider limiting the review length (optional).'"
      ]
     },
     "execution_count": 4,
     "metadata": {},
     "output_type": "execute_result"
    }
   ],
   "source": [
    "#Data Cleaning Techniques Planned:\n",
    "'''1. Drop missing Review rows.\n",
    "\n",
    "2.Remove punctuation and lowercase text.\n",
    "\n",
    "3.Tokenization and stopword removal (handled via TfidfVectorizer).\n",
    "\n",
    "4.Balance dataset if needed (check label distribution).\n",
    "\n",
    "5.Consider limiting the review length (optional).'''"
   ]
  },
  {
   "cell_type": "code",
   "execution_count": 5,
   "metadata": {},
   "outputs": [
    {
     "name": "stdout",
     "output_type": "stream",
     "text": [
      "['review', 'positive_review']\n",
      "\n",
      "Data types:\n",
      "review             object\n",
      "positive_review      bool\n",
      "dtype: object\n",
      "\n",
      "Summary statistics:\n",
      "                                                   review positive_review\n",
      "count                                                1973            1973\n",
      "unique                                               1865               2\n",
      "top     I have read several of Hiaasen's books and lov...           False\n",
      "freq                                                    3             993\n",
      "\n",
      "Missing values:\n",
      "review             0\n",
      "positive_review    0\n",
      "dtype: int64\n"
     ]
    },
    {
     "data": {
      "image/png": "[encoded data removed]",
      "text/plain": [
       "<Figure size 640x480 with 1 Axes>"
      ]
     },
     "metadata": {},
     "output_type": "display_data"
    },
    {
     "data": {
      "text/plain": [
       "False    993\n",
       "True     980\n",
       "Name: positive_review, dtype: int64"
      ]
     },
     "execution_count": 5,
     "metadata": {},
     "output_type": "execute_result"
    }
   ],
   "source": [
    "# YOUR CODE HERE\n",
    "import pandas as pd\n",
    "import string\n",
    "\n",
    "bookReviewDataSet_filename = os.path.join(os.getcwd(), \"data\", \"bookReviewsData.csv\")\n",
    "\n",
    "#  Load\n",
    "df = pd.read_csv(bookReviewDataSet_filename)\n",
    "\n",
    "# Clean column names\n",
    "df.columns = df.columns.str.strip().str.lower().str.replace(\" \", \"_\")\n",
    "print(df.columns.tolist()) \n",
    "\n",
    "print(\"\\nData types:\")\n",
    "print(df.dtypes)\n",
    "\n",
    "print(\"\\nSummary statistics:\")\n",
    "print(df.describe(include='all'))\n",
    "\n",
    "print(\"\\nMissing values:\")\n",
    "print(df.isnull().sum())\n",
    "\n",
    "\n",
    "if 'label' in df.columns:\n",
    "    print(\"\\nLabel distribution:\")\n",
    "    print(df['label'].value_counts())\n",
    "    sns.countplot(data=df, x='label')\n",
    "    plt.title('Class Distribution')\n",
    "    plt.show()\n",
    "\n",
    "if 'review' in df.columns:\n",
    "    df['text_length'] = df['review'].apply(lambda x: len(str(x).split()))\n",
    "    sns.histplot(df['text_length'], bins=50)\n",
    "    plt.title(\"Distribution of Text Lengths\")\n",
    "    plt.show()\n",
    "\n",
    "df['positive_review'].value_counts()\n",
    "\n",
    "\n",
    "\n",
    "\n",
    "\n"
   ]
  },
  {
   "cell_type": "code",
   "execution_count": 6,
   "metadata": {},
   "outputs": [
    {
     "data": {
      "text/plain": [
       "'I can definately see that the distribution data is heavily right-skewed distribution, with most reviews under 200 words and some outliers exceeding 1000 words. \\nSuch long reviews may introduce noise or bias the model. I plan to cap text at a reasonable text length like 500 wordsbecause very long texts might slow down training and introduce overfitting.'"
      ]
     },
     "execution_count": 6,
     "metadata": {},
     "output_type": "execute_result"
    }
   ],
   "source": [
    "'''I can definately see that the distribution data is heavily right-skewed distribution, with most reviews under 200 words and some outliers exceeding 1000 words. \n",
    "Such long reviews may introduce noise or bias the model. I plan to cap text at a reasonable text length like 500 wordsbecause very long texts might slow down training and introduce overfitting.'''"
   ]
  },
  {
   "cell_type": "markdown",
   "metadata": {},
   "source": [
    "## Part 4: Define Your Project Plan\n",
    "\n",
    "Now that you understand your data, in the markdown cell below, define your plan to implement the remaining phases of the machine learning life cycle (data preparation, modeling, evaluation) to solve your ML problem. Answer the following questions:\n",
    "\n",
    "* Do you have a new feature list? If so, what are the features that you chose to keep and remove after inspecting the data? \n",
    "* Explain different data preparation techniques that you will use to prepare your data for modeling.\n",
    "* What is your model (or models)?\n",
    "* Describe your plan to train your model, analyze its performance and then improve the model. That is, describe your model building, validation and selection plan to produce a model that generalizes well to new data. "
   ]
  },
  {
   "cell_type": "markdown",
   "metadata": {},
   "source": [
    "<Double click this Markdown cell to make it editable, and record your answers here.>\n",
    "Features:\n",
    "After exploring the dataset, I observed that the two primary columns are:\n",
    "\n",
    "review: The customer review text (input feature)\n",
    "\n",
    "positive_review: A binary label indicating whether the review is positive or not (target)\n",
    "\n",
    "Since the dataset is clean (no missing values), I will keep both columns and use only the review column as the feature and positive_review as the label. No other features are present, so no additional features will be removed or engineered at this stage.\n",
    "\n",
    " Data Preparation Techniques:\n",
    "To prepare the textual data for modeling, I will apply the following preprocessing steps:\n",
    "\n",
    "Lowercasing: Convert all text in the review column to lowercase.\n",
    "\n",
    "Punctuation Removal: Remove punctuation symbols using regex or string.punctuation.\n",
    "\n",
    "Tokenization: Convert text into individual tokens (words).\n",
    "\n",
    "Stopword Removal (optional): Remove common English stopwords like \"the\", \"is\", \"in\", etc.\n",
    "\n",
    "Vectorization: Convert text into numerical format using either:\n",
    "\n",
    "CountVectorizer, or\n",
    "\n",
    "TfidfVectorizer\n",
    "\n",
    "Train-Test Split: Split the data into training and testing sets to evaluate generalization.\n",
    "\n",
    " Model(s) Selection:\n",
    "I plan to experiment with the following models:\n",
    "\n",
    "Logistic Regression: A simple and interpretable baseline.\n",
    "\n",
    "Multinomial Naive Bayes: Often performs well for text classification tasks.\n",
    "\n",
    "(Optional): I may also test models like SVM or Random Forest if needed.\n",
    "\n",
    " Model Building, Evaluation, and Improvement:\n",
    "Initial Model Training:\n",
    "\n",
    "Split the dataset using an 80-20 or 70-30 train-test split.\n",
    "\n",
    "Train each model using the training set.\n",
    "\n",
    "Use cross-validation for more reliable performance estimation.\n",
    "\n",
    "Model Evaluation:\n",
    "\n",
    "Evaluate using accuracy, precision, recall, and F1-score.\n",
    "\n",
    "Use a confusion matrix to visualize true/false positives and negatives.\n",
    "\n",
    "Plot ROC-AUC if applicable.\n",
    "\n",
    "Model Improvement:\n",
    "\n",
    "Hyperparameter Tuning: Use GridSearchCV or RandomizedSearchCV.\n",
    "\n",
    "Feature Engineering: Try n-grams, stemming/lemmatization.\n",
    "\n",
    "Data Augmentation: If class imbalance is observed, consider SMOTE or upsampling.\n",
    "\n",
    "Final Model Selection:\n",
    "\n",
    "Choose the best-performing model based on validation metrics.\n",
    "\n",
    "Retrain on full training data and evaluate on test data to check for generalization\n"
   ]
  },
  {
   "cell_type": "markdown",
   "metadata": {},
   "source": [
    "## Part 5: Implement Your Project Plan\n",
    "\n",
    "<b>Task:</b> In the code cell below, import additional packages that you have used in this course that you will need to implement your project plan."
   ]
  },
  {
   "cell_type": "code",
   "execution_count": 206,
   "metadata": {},
   "outputs": [],
   "source": [
    "# YOUR CODE HERE\n",
    "from sklearn.model_selection import train_test_split\n",
    "from sklearn.feature_extraction.text import TfidfVectorizer\n",
    "from sklearn.linear_model import LogisticRegression\n",
    "from sklearn.naive_bayes import MultinomialNB\n",
    "from sklearn.metrics import classification_report, confusion_matrix, accuracy_score\n",
    "from sklearn.preprocessing import LabelEncoder\n",
    "from sklearn.model_selection import train_test_split\n",
    "from sklearn.model_selection import GridSearchCV\n",
    "from sklearn.model_selection import cross_val_score\n",
    "from sklearn.metrics import roc_auc_score\n",
    "from sklearn.ensemble import RandomForestClassifier\n",
    "import time\n",
    "from keras import regularizers\n",
    "\n"
   ]
  },
  {
   "cell_type": "code",
   "execution_count": 185,
   "metadata": {},
   "outputs": [
    {
     "name": "stdout",
     "output_type": "stream",
     "text": [
      " Report from Logistic Regression:\n",
      "              precision    recall  f1-score   support\n",
      "\n",
      "    Negative       0.84      0.79      0.82       195\n",
      "    Positive       0.81      0.85      0.83       200\n",
      "\n",
      "    accuracy                           0.82       395\n",
      "   macro avg       0.82      0.82      0.82       395\n",
      "weighted avg       0.82      0.82      0.82       395\n",
      "\n",
      "Accuracy: 0.82\n"
     ]
    }
   ],
   "source": [
    "# YOUR CODE HERE\n",
    "#  Clean review text\n",
    "df['cleaned_text'] = df['review'].str.lower().str.replace(r\"[^\\w\\s]\", \"\", regex=True)\n",
    "\n",
    "def clean_text(text):\n",
    "    text = str(text).lower()  # convert to lowercase\n",
    "    text = text.translate(str.maketrans(\"\", \"\", string.punctuation))  # remove punctuation\n",
    "    return text\n",
    "    df['review'] = df['review'].apply(clean_text)\n",
    "#limiting text length to avoid bias  \n",
    "MAX_WORDS = 500\n",
    "df['clean_text'] = df['cleaned_text'].apply(lambda x: ' '.join(x.split()[:MAX_WORDS]))\n",
    "\n",
    "\n",
    "# Split feature and label \n",
    "X = df['review']\n",
    "y = df['positive_review']\n",
    "\n",
    "\n",
    "# Step 1: Vectorize the text\n",
    "vectorizer = TfidfVectorizer(stop_words='english', max_df=0.9, min_df=5, ngram_range=(1, 2) )\n",
    "X = vectorizer.fit_transform(df['review'])  # converts to numerical matrix\n",
    "y = df['positive_review'] \n",
    "\n",
    "# Step 2: Train-test split\n",
    "X_train, X_test, y_train, y_test = train_test_split(X, y, test_size=0.2, random_state=42)\n",
    "\n",
    "\n",
    "\n",
    "# Step 3: Train model Logistic Regression\n",
    "model = LogisticRegression(max_iter=1000)\n",
    "model.fit(X_train, y_train)\n",
    "\n",
    "# Step 4: Predict\n",
    "y_pred = model.predict(X_test)\n",
    "\n",
    "\n",
    "print(\" Report from Logistic Regression:\")\n",
    "print(classification_report(y_test, y_pred, target_names=['Negative', 'Positive']))\n",
    "\n",
    "# Accuracy\n",
    "acc = accuracy_score(y_test, y_pred)\n",
    "print(f\"Accuracy: {acc:.2f}\")"
   ]
  },
  {
   "cell_type": "code",
   "execution_count": 186,
   "metadata": {},
   "outputs": [
    {
     "name": "stdout",
     "output_type": "stream",
     "text": [
      "Naive Bayes Report :\n",
      "              precision    recall  f1-score   support\n",
      "\n",
      "    Negative       0.80      0.82      0.81       195\n",
      "    Positive       0.82      0.80      0.81       200\n",
      "\n",
      "    accuracy                           0.81       395\n",
      "   macro avg       0.81      0.81      0.81       395\n",
      "weighted avg       0.81      0.81      0.81       395\n",
      "\n",
      "Accuracy: 0.81\n"
     ]
    }
   ],
   "source": [
    "# Naive Bayes for model evaulation \n",
    "nb_model = MultinomialNB()\n",
    "nb_model.fit(X_train, y_train)\n",
    "nb_pred = nb_model.predict(X_test)\n",
    "print(\"Naive Bayes Report :\")\n",
    "print(classification_report(y_test, nb_pred, target_names=['Negative', 'Positive']))\n",
    "acc = accuracy_score(y_test, nb_pred)\n",
    "print(f\"Accuracy: {acc:.2f}\")"
   ]
  },
  {
   "cell_type": "code",
   "execution_count": 189,
   "metadata": {},
   "outputs": [
    {
     "name": "stdout",
     "output_type": "stream",
     "text": [
      "Epoch [5/ 100], Loss: 0.6883, Accuracy: 0.5365, Val_loss: 0.6921, Val_accuracy: 0.4747\n",
      "Epoch [10/ 100], Loss: 0.6535, Accuracy: 0.7361, Val_loss: 0.6609, Val_accuracy: 0.7373\n",
      "Epoch [15/ 100], Loss: 0.4973, Accuracy: 0.7591, Val_loss: 0.8936, Val_accuracy: 0.4684\n",
      "Epoch [20/ 100], Loss: 0.3690, Accuracy: 0.8455, Val_loss: 0.9587, Val_accuracy: 0.5823\n",
      "Epoch [25/ 100], Loss: 0.1826, Accuracy: 0.9437, Val_loss: 0.4832, Val_accuracy: 0.7722\n",
      "Epoch [30/ 100], Loss: 0.1977, Accuracy: 0.9564, Val_loss: 0.5169, Val_accuracy: 0.7911\n",
      "Epoch [35/ 100], Loss: 0.0079, Accuracy: 1.0000, Val_loss: 0.6369, Val_accuracy: 0.7880\n",
      "Epoch [40/ 100], Loss: 0.0039, Accuracy: 1.0000, Val_loss: 0.6830, Val_accuracy: 0.7943\n",
      "Epoch [45/ 100], Loss: 0.0025, Accuracy: 1.0000, Val_loss: 0.7138, Val_accuracy: 0.7975\n",
      "Epoch [50/ 100], Loss: 0.0020, Accuracy: 1.0000, Val_loss: 0.7492, Val_accuracy: 0.7911\n",
      "Epoch [55/ 100], Loss: 0.0014, Accuracy: 1.0000, Val_loss: 0.7935, Val_accuracy: 0.7753\n",
      "Epoch [60/ 100], Loss: 0.0011, Accuracy: 1.0000, Val_loss: 0.8040, Val_accuracy: 0.7848\n",
      "Epoch [65/ 100], Loss: 0.0009, Accuracy: 1.0000, Val_loss: 0.8134, Val_accuracy: 0.7911\n",
      "Epoch [70/ 100], Loss: 0.0009, Accuracy: 1.0000, Val_loss: 0.8227, Val_accuracy: 0.7975\n",
      "Epoch [75/ 100], Loss: 0.0008, Accuracy: 1.0000, Val_loss: 0.8310, Val_accuracy: 0.7975\n",
      "Epoch [80/ 100], Loss: 0.0006, Accuracy: 1.0000, Val_loss: 0.8547, Val_accuracy: 0.7911\n",
      "Epoch [85/ 100], Loss: 0.0008, Accuracy: 1.0000, Val_loss: 0.8604, Val_accuracy: 0.7880\n",
      "Epoch [90/ 100], Loss: 0.0005, Accuracy: 1.0000, Val_loss: 0.8675, Val_accuracy: 0.7911\n",
      "Epoch [95/ 100], Loss: 0.0004, Accuracy: 1.0000, Val_loss: 0.8818, Val_accuracy: 0.7911\n",
      "Epoch [100/ 100], Loss: 0.0004, Accuracy: 1.0000, Val_loss: 0.8887, Val_accuracy: 0.7911\n"
     ]
    },
    {
     "data": {
      "image/png": "[encoded data removed]",
      "text/plain": [
       "<Figure size 640x480 with 1 Axes>"
      ]
     },
     "metadata": {},
     "output_type": "display_data"
    },
    {
     "data": {
      "image/png": "[encoded data removed]",
      "text/plain": [
       "<Figure size 640x480 with 1 Axes>"
      ]
     },
     "metadata": {},
     "output_type": "display_data"
    }
   ],
   "source": [
    "# SGD Optimizer specifying the learning rate \n",
    "sgd_optimizer = keras.optimizers.SGD(learning_rate=0.1)  \n",
    "\n",
    "#Define loss function \n",
    "loss_fn = keras.losses.BinaryCrossentropy(from_logits=False)\n",
    "\n",
    "#compiling the model based on accuracy \n",
    "nn_model.compile(optimizer=sgd_optimizer, loss=loss_fn, metrics=['accuracy'])\n",
    "\n",
    "# Fit the model \n",
    "class ProgBarLoggerNEpochs(keras.callbacks.Callback):\n",
    "    \n",
    "    def __init__(self, num_epochs: int, every_n: int = 50):\n",
    "        self.num_epochs = num_epochs\n",
    "        self.every_n = every_n\n",
    "    \n",
    "    def on_epoch_end(self, epoch, logs=None):\n",
    "        if (epoch + 1) % self.every_n == 0:\n",
    "            s = 'Epoch [{}/ {}]'.format(epoch + 1, self.num_epochs)\n",
    "            logs_s = ['{}: {:.4f}'.format(k.capitalize(), v)\n",
    "                      for k, v in logs.items()]\n",
    "            s_list = [s] + logs_s\n",
    "            print(', '.join(s_list))\n",
    "\n",
    "t0 = time.time() # start time\n",
    "\n",
    "num_epochs = 100 # epochs\n",
    "history = nn_model.fit(\n",
    "    X_train.toarray(),\n",
    "    y_train,\n",
    "    epochs=num_epochs,\n",
    "    verbose=0, \n",
    "    validation_split = 0.2,\n",
    "    callbacks=[ProgBarLoggerNEpochs(num_epochs, every_n=5)],\n",
    ")\n",
    "\n",
    "t1 = time.time() # stop time_\n",
    "\n",
    "\n",
    "# Plot training and validation loss\n",
    "plt.plot(range(1, num_epochs + 1), history.history['loss'], label='Training Loss')\n",
    "plt.plot(range(1, num_epochs + 1), history.history['val_loss'], label='Validation Loss')\n",
    "\n",
    "plt.xlabel('Epoch')\n",
    "plt.ylabel('Loss')\n",
    "plt.legend()\n",
    "plt.show()\n",
    "\n",
    "\n",
    "# Plot training and validation accuracy\n",
    "plt.plot(range(1, num_epochs + 1), history.history['accuracy'], label='Training Accuracy')\n",
    "plt.plot(range(1, num_epochs + 1), history.history['val_accuracy'], label='Validation Accuracy')\n",
    "\n",
    "plt.xlabel('Epoch')\n",
    "plt.ylabel('Accuracy')\n",
    "plt.legend()\n",
    "plt.show()"
   ]
  },
  {
   "cell_type": "code",
   "execution_count": 190,
   "metadata": {},
   "outputs": [
    {
     "name": "stdout",
     "output_type": "stream",
     "text": [
      "13/13 [==============================] - 0s 720us/step - loss: 0.7042 - accuracy: 0.8278\n",
      "Loss:  0.7042452692985535 Accuracy:  0.8278480768203735\n"
     ]
    }
   ],
   "source": [
    "loss, accuracy = nn_model.evaluate(X_test.toarray(), y_test)\n",
    "\n",
    "print('Loss: ', str(loss) , 'Accuracy: ', str(accuracy))"
   ]
  },
  {
   "cell_type": "code",
   "execution_count": 191,
   "metadata": {},
   "outputs": [
    {
     "name": "stdout",
     "output_type": "stream",
     "text": [
      "Predictions for the first 20 examples:\n",
      "Predicted Probability: 1.0000, True Label: False\n",
      "Predicted Probability: 0.9999, True Label: True\n",
      "Predicted Probability: 1.0000, True Label: True\n",
      "Predicted Probability: 0.9997, True Label: True\n",
      "Predicted Probability: 0.9997, True Label: True\n",
      "Predicted Probability: 0.7513, True Label: True\n",
      "Predicted Probability: 0.9842, True Label: False\n",
      "Predicted Probability: 0.9998, True Label: True\n",
      "Predicted Probability: 0.9997, True Label: False\n",
      "Predicted Probability: 1.0000, True Label: True\n"
     ]
    }
   ],
   "source": [
    "# Make predictions on the test set\n",
    "probability_predictions = nn_model.predict(X.toarray())\n",
    "\n",
    "print(\"Predictions for the first 20 examples:\")\n",
    "y_test_array = y_test.to_numpy()\n",
    "for i in range(20):\n",
    "    prob = probability_predictions[i][0] \n",
    "    if prob > 0.5:\n",
    "        print(f\"Predicted Probability: {prob:.4f}, True Label: {y_test_array[i]}\")"
   ]
  },
  {
   "cell_type": "code",
   "execution_count": 196,
   "metadata": {},
   "outputs": [
    {
     "name": "stdout",
     "output_type": "stream",
     "text": [
      "Review #1:\n",
      "\n",
      "As a young woman I was appauled by Gurian's lack of respect for\n",
      "women as human beings.What makes me the most furious is his \n",
      "shadowy writing which can lead a young woman to think she is \n",
      "only worth something if she squishes herself to allow the \n",
      "boys and men to take the lead in life.The resounding message is\n",
      "girls and women are potentially inferior and cannot because of \n",
      "our hormones make important contributions to society beyond \n",
      "traditional roles.I don't remember ever being taken over by \n",
      "hormones and rendered down to a emotional bundle of primative \n",
      "chemical reactions he believes all females to be.\n",
      "I agree with posters about this bridge brain foolishness.Gurian\n",
      "is a master at twisting words around and you have to read his \n",
      "books being mindfull of his tricks.His book is full of agenda.\n",
      "\n",
      "\n",
      "Prediction: Is this a good review? False\n",
      "\n",
      "Actual: Is this a good review? False\n",
      "\n"
     ]
    }
   ],
   "source": [
    "print('Review #1:\\n')\n",
    "print(df.iloc[11]['review'])  \n",
    "\n",
    "goodReview = True if probability_predictions[11] >= .5 else False\n",
    "print('\\nPrediction: Is this a good review? {}\\n'.format(goodReview))\n",
    "\n",
    "print('Actual: Is this a good review? {}\\n'.format(y_test.to_numpy()[11]))\n"
   ]
  },
  {
   "cell_type": "code",
   "execution_count": 197,
   "metadata": {},
   "outputs": [
    {
     "name": "stdout",
     "output_type": "stream",
     "text": [
      "Review #2:\n",
      "\n",
      "Unfortunately, this book is the sign of what passes for humour these days. Even though it may have been remotely funny (sometimes the author comes close to being bearable), the book never actually tries to be. \n",
      "\n",
      "Humour is supposed to be smart. However, this book gives us the worst case of dumb\n",
      "\n",
      "\n",
      "Prediction: Is this a good review? False\n",
      "\n",
      "Actual: Is this a good review? True\n",
      "\n"
     ]
    }
   ],
   "source": [
    "print('Review #2:\\n')\n",
    "\n",
    "print(df.iloc[24]['review'])\n",
    "\n",
    "goodReview = True if probability_predictions[24] >= .5 else False\n",
    "\n",
    "print('\\nPrediction: Is this a good review? {}\\n'.format(goodReview)) \n",
    "\n",
    "print('Actual: Is this a good review? {}\\n'.format(y_test.to_numpy()[24]))"
   ]
  },
  {
   "cell_type": "code",
   "execution_count": 200,
   "metadata": {},
   "outputs": [
    {
     "name": "stdout",
     "output_type": "stream",
     "text": [
      "Review #1:\n",
      "\n",
      "Is that those who read it and believe it, believe they actualy have girlfriends!!! Come on! admit it you are guys who wear black sabbath t-shirts and live in your parents basements. You also believe that you can get control of you live by chanting some spells from a book made to get your money.  Look, go get a hair cut, take a bath and loose 10 pounds and you will probably get that girl friend that you talk about.  Oh by the way the Necronomicon is fiction! . . except for the real copy that is in my basement, in my parents house where I used to live when I was 15\n",
      "\n",
      "\n",
      "Prediction: Is this a good review? False\n",
      "\n",
      "Actual: Is this a good review? True\n",
      "\n"
     ]
    }
   ],
   "source": [
    "print('Review #3:\\n')\n",
    "print(df.iloc[56]['review'])  \n",
    "\n",
    "goodReview = True if probability_predictions[56] >= .5 else False\n",
    "print('\\nPrediction: Is this a good review? {}\\n'.format(goodReview))\n",
    "\n",
    "print('Actual: Is this a good review? {}\\n'.format(y_test.to_numpy()[56]))\n"
   ]
  },
  {
   "cell_type": "code",
   "execution_count": 201,
   "metadata": {},
   "outputs": [
    {
     "name": "stdout",
     "output_type": "stream",
     "text": [
      "Review #1:\n",
      "\n",
      "Compiled, arranged and edited by Sara St. Antoine, Stories From Where We Live: The Great Lakes is a delightful and enthusiastically recommended anthology of stories, essays, and poems drawn from a diversity of talented authors, all of whom are celebrating the richness of daily life and the wilds of the Great Lakes region of North America. Suitable for young readers of all ages, these memorable tales and stories are enhanced with simple black-and-white illustrations to make the land, its creatures, and the people who saw and settled upon it come alive\n",
      "\n",
      "\n",
      "Prediction: Is this a good review? True\n",
      "\n",
      "Actual: Is this a good review? True\n",
      "\n"
     ]
    }
   ],
   "source": [
    "print('Review #4:\\n')\n",
    "print(df.iloc[102]['review']) \n",
    "\n",
    "goodReview = True if probability_predictions[102] >= .5 else False\n",
    "print('\\nPrediction: Is this a good review? {}\\n'.format(goodReview))\n",
    "\n",
    "print('Actual: Is this a good review? {}\\n'.format(y_test.to_numpy()[102]))\n"
   ]
  },
  {
   "cell_type": "code",
   "execution_count": 202,
   "metadata": {},
   "outputs": [
    {
     "name": "stdout",
     "output_type": "stream",
     "text": [
      "Review #5:\n",
      "\n",
      "   I read The Pig Man by Paul Zindel for a summer vacation assignment. In all, I do not enjoy reading books , but I was surprised by the humor in this book. When I was reading it, I would have to stop reading and I would start laughing. It would take a while to calm myself down.\n",
      "\n",
      "   It first started with John and Lorraine, then a lot of strange things started to happen to them. The old man that they where trying to prank call, was actually going to give them money. When they meet him it all changed. They where worried because they lied to him  and did not know what to do. They told him the truth and became good friends with the Pig Man. They called him the pig man because his name was Mr. Pignati, and he collected hundreds of little pig statues. \n",
      "           \n",
      "          John and Lorraine learned a lot about the importance of life as they grew to love the Pig Man. This sad story has to taught them how to move on after a loved one has died. \n",
      " \n",
      "           \n",
      "\n",
      "\n",
      "Prediction: Is this a good review? True\n",
      "\n",
      "Actual: Is this a good review? False\n",
      "\n"
     ]
    }
   ],
   "source": [
    "print('Review #5:\\n')\n",
    "print(df.iloc[130]['review']) \n",
    "\n",
    "goodReview = True if probability_predictions[130] >= .5 else False\n",
    "print('\\nPrediction: Is this a good review? {}\\n'.format(goodReview))\n",
    "\n",
    "print('Actual: Is this a good review? {}\\n'.format(y_test.to_numpy()[130]))\n"
   ]
  },
  {
   "cell_type": "code",
   "execution_count": null,
   "metadata": {},
   "outputs": [],
   "source": [
    "# Analysis\n",
    "\n",
    "'''Over the course of this project, I aimed to build a model that could accurately classify book reviews as either positive or \n",
    "negative based on their text content. I began with a logistic regression model using a simple TF-IDF vectorizer \n",
    "with n-grams. This baseline approach achieved an accuracy of approximately 82%, offering a quick and interpretable model but limited by its linear nature \n",
    "and inability to fully capture contextual word relationships.\n",
    "Next, I explored a Naive Bayes classifier using similar TF-IDF features. While this model slightly \n",
    "underperformed in terms of accuracy (approximately 81%), it demonstrated a strong AUC score of 0.908, \n",
    "indicating it was effective at ranking positive and negative examples despite being a relatively simple algorithm. \n",
    "This result suggested that, although the model wasn’t the most accurate in classification at a specific \n",
    "threshold, it had strong potential in distinguishing sentiment across a continuum.\n",
    "To push performance further, I implemented a feedforward neural network. This model incorporated \n",
    "multiple improvements, including the use of n-gram, increased training \n",
    "epochs, and dropout layers to reduce overfitting. As a result, the neural network slightly outperformed \n",
    "previous models, reaching an accuracy of 82.7%. Additionally, it demonstrated more balanced precision \n",
    "and recall, with an F1 score around 0.83, indicating better overall performance on both positive \n",
    "and negative reviews.\n",
    "\n",
    "Upon examining the misclassified examples, several patterns emerged. A common issue was the misinterpretation of sarcastic or ironic reviews. \n",
    "For example, a review like “Absolutely loved wasting my time with this book” was misclassified as \n",
    "positive due to the presence of typically positive words like “loved”. Similarly, some reviews \n",
    "with a generally neutral or mixed tone were difficult for the model to categorize correctly, \n",
    "often being predicted as positive when they were labeled negative. These cases suggest that \n",
    "the model may struggle with contextual or nuanced language, particularly when sentiment is not \n",
    "directly stated but implied.'''"
   ]
  }
 ],
 "metadata": {
  "kernelspec": {
   "display_name": "Python 3 (ipykernel)",
   "language": "python",
   "name": "python3"
  },
  "language_info": {
   "codemirror_mode": {
    "name": "ipython",
    "version": 3
   },
   "file_extension": ".py",
   "mimetype": "text/x-python",
   "name": "python",
   "nbconvert_exporter": "python",
   "pygments_lexer": "ipython3",
   "version": "3.9.19"
  },
  "toc": {
   "base_numbering": 1,
   "nav_menu": {},
   "number_sections": false,
   "sideBar": true,
   "skip_h1_title": false,
   "title_cell": "Table of Contents",
   "title_sidebar": "Contents",
   "toc_cell": false,
   "toc_position": {},
   "toc_section_display": true,
   "toc_window_display": false
  },
  "varInspector": {
   "cols": {
    "lenName": 16,
    "lenType": 16,
    "lenVar": 40
   },
   "kernels_config": {
    "python": {
     "delete_cmd_postfix": "",
     "delete_cmd_prefix": "del ",
     "library": "var_list.py",
     "varRefreshCmd": "print(var_dic_list())"
    },
    "r": {
     "delete_cmd_postfix": ") ",
     "delete_cmd_prefix": "rm(",
     "library": "var_list.r",
     "varRefreshCmd": "cat(var_dic_list()) "
    }
   },
   "types_to_exclude": [
    "module",
    "function",
    "builtin_function_or_method",
    "instance",
    "_Feature"
   ],
   "window_display": false
  }
 },
 "nbformat": 4,
 "nbformat_minor": 4
}
